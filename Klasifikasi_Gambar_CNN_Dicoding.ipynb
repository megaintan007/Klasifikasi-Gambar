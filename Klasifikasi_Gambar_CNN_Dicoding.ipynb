{
  "cells": [
    {
      "cell_type": "markdown",
      "metadata": {
        "id": "VD2ZQpuuaQmf"
      },
      "source": [
        "- Nama: Mega Intan Pratiwi\n",
        "- Email: megaintanpratiwi20@gmail.com\n",
        "- Id Dicoding: megaintanp202020"
      ]
    },
    {
      "cell_type": "code",
      "execution_count": 1,
      "metadata": {
        "id": "lLAp20uDLfil",
        "colab": {
          "base_uri": "https://localhost:8080/"
        },
        "outputId": "d633adc3-506b-4d31-daf9-41eac57262cb"
      },
      "outputs": [
        {
          "output_type": "stream",
          "name": "stdout",
          "text": [
            "Drive already mounted at /content/drive; to attempt to forcibly remount, call drive.mount(\"/content/drive\", force_remount=True).\n"
          ]
        }
      ],
      "source": [
        "from google.colab import drive\n",
        "drive.mount('/content/drive')"
      ]
    },
    {
      "cell_type": "code",
      "execution_count": 2,
      "metadata": {
        "colab": {
          "base_uri": "https://localhost:8080/"
        },
        "id": "mGlzRG8DZQMj",
        "outputId": "15ee0d5d-47e9-4be1-a786-8cd162983343"
      },
      "outputs": [
        {
          "output_type": "stream",
          "name": "stdout",
          "text": [
            "--2023-11-28 06:25:12--  https://dicodingacademy.blob.core.windows.net/picodiploma/ml_pemula_academy/rockpaperscissors.zip\n",
            "Resolving dicodingacademy.blob.core.windows.net (dicodingacademy.blob.core.windows.net)... 20.60.139.65\n",
            "Connecting to dicodingacademy.blob.core.windows.net (dicodingacademy.blob.core.windows.net)|20.60.139.65|:443... connected.\n",
            "HTTP request sent, awaiting response... 404 The specified resource does not exist.\n",
            "2023-11-28 06:25:13 ERROR 404: The specified resource does not exist..\n",
            "\n"
          ]
        }
      ],
      "source": [
        "# mengambil dataset batu gunting kertas atau rockpapersiccors\n",
        "!wget --no-check-certificate \\\n",
        "  https://dicodingacademy.blob.core.windows.net/picodiploma/ml_pemula_academy/rockpaperscissors.zip \\\n",
        "  -O /tmp/rockpaperscissors.zip"
      ]
    },
    {
      "cell_type": "code",
      "execution_count": 3,
      "metadata": {
        "colab": {
          "base_uri": "https://localhost:8080/"
        },
        "id": "eAhiG0GPD312",
        "outputId": "2647d1d8-f17f-4a95-d1d4-87717f3ad8fe"
      },
      "outputs": [
        {
          "output_type": "stream",
          "name": "stdout",
          "text": [
            "Requirement already satisfied: split-folders in /usr/local/lib/python3.10/dist-packages (0.5.1)\n"
          ]
        }
      ],
      "source": [
        "# install library split-folder untuk membuat folder\n",
        "!pip install split-folders"
      ]
    },
    {
      "cell_type": "code",
      "execution_count": 4,
      "metadata": {
        "id": "pdlgVQqqZz8G"
      },
      "outputs": [],
      "source": [
        "import tensorflow as tf\n",
        "from tensorflow.keras.optimizers import RMSprop\n",
        "from tensorflow.keras.preprocessing.image import ImageDataGenerator"
      ]
    },
    {
      "cell_type": "code",
      "execution_count": 14,
      "metadata": {
        "id": "v-wExgzpIYxY"
      },
      "outputs": [],
      "source": [
        "# melakukan ekstraksi pada file zip\n",
        "import zipfile,os\n",
        "# import splitfolders\n",
        "\n",
        "local_zip = '/content/drive/MyDrive/dataset/rockpaperscissors.zip'\n",
        "zip_ref = zipfile.ZipFile(local_zip, 'r')\n",
        "zip_ref.extractall('/content/drive/MyDrive/dataset')\n",
        "zip_ref.close()\n",
        "\n",
        "# mendefinisikan nama direktori untuk data latih dan data validasi\n",
        "base_dir = '/content/drive/MyDrive/dataset/rockpaperscissors/rps-cv-images'\n",
        "# splitfolders.ratio(base_dir, output=base_dir, ratio=(0.8,0.2))\n",
        "\n",
        "# train_dir = os.path.join(base_dir, 'train')\n",
        "# validation_dir = os.path.join(base_dir, 'val')"
      ]
    },
    {
      "cell_type": "code",
      "execution_count": 15,
      "metadata": {
        "colab": {
          "base_uri": "https://localhost:8080/",
          "height": 36
        },
        "id": "uHYToEzPcP7N",
        "outputId": "a5618cb8-8380-469d-d83c-af14b45e2434"
      },
      "outputs": [
        {
          "output_type": "execute_result",
          "data": {
            "text/plain": [
              "'/content/drive/MyDrive/dataset/rockpaperscissors/rps-cv-images'"
            ],
            "application/vnd.google.colaboratory.intrinsic+json": {
              "type": "string"
            }
          },
          "metadata": {},
          "execution_count": 15
        }
      ],
      "source": [
        "base_dir"
      ]
    },
    {
      "cell_type": "code",
      "execution_count": 16,
      "metadata": {
        "colab": {
          "base_uri": "https://localhost:8080/"
        },
        "id": "-mMt8hFPXRW2",
        "outputId": "911178ee-bc0f-467e-f68a-922fa70ff8d0"
      },
      "outputs": [
        {
          "output_type": "execute_result",
          "data": {
            "text/plain": [
              "['paper', 'rock', 'scissors', 'README_rpc-cv-images.txt']"
            ]
          },
          "metadata": {},
          "execution_count": 16
        }
      ],
      "source": [
        "os.listdir(base_dir)"
      ]
    },
    {
      "cell_type": "code",
      "execution_count": null,
      "metadata": {
        "id": "FBgQe3Jbbe5F"
      },
      "outputs": [],
      "source": [
        "#os.listdir(train_dir)"
      ]
    },
    {
      "cell_type": "code",
      "execution_count": null,
      "metadata": {
        "id": "Z7xB9YIgbtld",
        "colab": {
          "base_uri": "https://localhost:8080/"
        },
        "outputId": "c0eab3da-f84d-4bdf-e97d-745f625dc67b"
      },
      "outputs": [
        {
          "output_type": "execute_result",
          "data": {
            "text/plain": [
              "['paper', 'rock', 'scissors', 'train', 'val']"
            ]
          },
          "metadata": {},
          "execution_count": 10
        }
      ],
      "source": [
        "#os.listdir(validation_dir)"
      ]
    },
    {
      "cell_type": "code",
      "execution_count": null,
      "metadata": {
        "id": "L2W-G_Lgf9F-"
      },
      "outputs": [],
      "source": [
        "# # membuat direktori batu pada direktori data training\n",
        "# train_rock_dir = os.path.join(train_dir, 'rock')\n",
        "\n",
        "# # membuat direktori gunting pada direktori data training\n",
        "# train_scissor_dir = os.path.join(train_dir, 'scissors')\n",
        "\n",
        "# # membuat direktori kertas pada direktori data training\n",
        "# train_paper_dir = os.path.join(train_dir, 'paper')\n",
        "\n",
        "# # membuat direktori batu pada direktori data validasi\n",
        "# validation_rock_dir = os.path.join(validation_dir, 'rock')\n",
        "\n",
        "# # membuat direktori gunting pada direktori data validasi\n",
        "# validation_scissor_dir = os.path.join(validation_dir, 'scissors')\n",
        "\n",
        "# # membuat direktori kertas pada direktori data validasi\n",
        "# validation_paper_dir = os.path.join(validation_dir, 'paper')"
      ]
    },
    {
      "cell_type": "code",
      "execution_count": 17,
      "metadata": {
        "id": "3cC2fjbgf7SO"
      },
      "outputs": [],
      "source": [
        "# proses augmentasi gambar pada sampel data traininng\n",
        "train_datagen = ImageDataGenerator(rescale=1./255,\n",
        "                                   rotation_range=20,\n",
        "                                   shear_range = 0.2,\n",
        "                                   horizontal_flip=True,\n",
        "                                   fill_mode = 'wrap',\n",
        "                                   validation_split = 0.4)\n",
        "\n",
        "#ImageDataGenerator(rescale=1./255,\n",
        "                            #rotation_range=20,\n",
        "                            #horizontal_flip=True,\n",
        "                            #shear_range = 0.2,\n",
        "                            #validation_split = 0.4,\n",
        "                            #fill_mode = 'nearest')\n",
        "\n",
        "# proses augmentasi gambar pada sampel data testing\n",
        "test_datagen = ImageDataGenerator(rescale=1./255,\n",
        "                                  zoom_range = 0.2,\n",
        "                                  shear_range = 0.2,\n",
        "                                  horizontal_flip=True,\n",
        "                                  validation_split = 0.4)"
      ]
    },
    {
      "cell_type": "code",
      "execution_count": 18,
      "metadata": {
        "colab": {
          "base_uri": "https://localhost:8080/"
        },
        "id": "Y6bUnF86YfW3",
        "outputId": "3a3884a9-506e-4e81-fa8a-48e0a459beb5"
      },
      "outputs": [
        {
          "output_type": "stream",
          "name": "stdout",
          "text": [
            "Found 1314 images belonging to 3 classes.\n",
            "Found 874 images belonging to 3 classes.\n"
          ]
        }
      ],
      "source": [
        "# persiapan data training\n",
        "train_generator = train_datagen.flow_from_directory(\n",
        "        base_dir,\n",
        "        # mengubah resolusi seluruh gambar menjadi 150x150 piksel\n",
        "        target_size=(100, 150),\n",
        "        shuffle = True,\n",
        "        subset='training',\n",
        "        class_mode='categorical')\n",
        "\n",
        "# persiapan data validasi\n",
        "validation_generator = train_datagen.flow_from_directory(\n",
        "        base_dir,\n",
        "        # mengubah resolusi seluruh gambar menjadi 150x150 piksel\n",
        "        target_size=(100, 150),\n",
        "        subset='validation',\n",
        "        class_mode='categorical')"
      ]
    },
    {
      "cell_type": "code",
      "execution_count": 19,
      "metadata": {
        "id": "GlcDZYyrgGZJ"
      },
      "outputs": [],
      "source": [
        "model = tf.keras.models.Sequential([\n",
        "    # Conv2D untuk mengekstrak atribut pada gambar\n",
        "    tf.keras.layers.Conv2D(32, (3,3), activation='relu', input_shape=(100, 150, 3)),\n",
        "    # max pooling untuk mengurangi resolusi gambar\n",
        "    tf.keras.layers.MaxPooling2D(2, 2),\n",
        "    tf.keras.layers.Conv2D(64, (3,3), activation='relu'),\n",
        "    tf.keras.layers.MaxPooling2D(2,2),\n",
        "    tf.keras.layers.Conv2D(128, (3,3), activation='relu'),\n",
        "    tf.keras.layers.MaxPooling2D(2,2),\n",
        "    tf.keras.layers.Conv2D(512, (3,3), activation='relu'),\n",
        "    tf.keras.layers.MaxPooling2D(2,2),\n",
        "    tf.keras.layers.Flatten(),\n",
        "    tf.keras.layers.Dense(128, activation='relu'),\n",
        "    tf.keras.layers.Dense(3, activation='softmax')\n",
        "])"
      ]
    },
    {
      "cell_type": "code",
      "execution_count": 20,
      "metadata": {
        "id": "0-l_mQzHgHum"
      },
      "outputs": [],
      "source": [
        "model.compile(loss='categorical_crossentropy',\n",
        "              optimizer='adam',\n",
        "              metrics=['accuracy'])"
      ]
    },
    {
      "cell_type": "code",
      "execution_count": 21,
      "metadata": {
        "colab": {
          "base_uri": "https://localhost:8080/"
        },
        "id": "Je0qo24DgJKO",
        "outputId": "0fc4d0bb-fd35-49f9-c4ce-dd10d1e352a6"
      },
      "outputs": [
        {
          "output_type": "stream",
          "name": "stdout",
          "text": [
            "Epoch 1/25\n",
            "25/25 - 46s - loss: 1.0075 - accuracy: 0.4740 - val_loss: 0.8094 - val_accuracy: 0.6375 - 46s/epoch - 2s/step\n",
            "Epoch 2/25\n",
            "25/25 - 41s - loss: 0.5363 - accuracy: 0.7857 - val_loss: 0.3114 - val_accuracy: 0.8813 - 41s/epoch - 2s/step\n",
            "Epoch 3/25\n",
            "25/25 - 39s - loss: 0.3512 - accuracy: 0.8649 - val_loss: 0.2629 - val_accuracy: 0.9250 - 39s/epoch - 2s/step\n",
            "Epoch 4/25\n",
            "25/25 - 41s - loss: 0.2418 - accuracy: 0.9125 - val_loss: 0.2034 - val_accuracy: 0.9250 - 41s/epoch - 2s/step\n",
            "Epoch 5/25\n",
            "25/25 - 37s - loss: 0.2072 - accuracy: 0.9351 - val_loss: 0.1083 - val_accuracy: 0.9688 - 37s/epoch - 1s/step\n",
            "Epoch 6/25\n",
            "25/25 - 40s - loss: 0.1829 - accuracy: 0.9416 - val_loss: 0.1680 - val_accuracy: 0.9375 - 40s/epoch - 2s/step\n",
            "Epoch 7/25\n",
            "25/25 - 38s - loss: 0.2227 - accuracy: 0.9286 - val_loss: 0.1207 - val_accuracy: 0.9500 - 38s/epoch - 2s/step\n",
            "Epoch 8/25\n",
            "25/25 - 40s - loss: 0.4152 - accuracy: 0.8545 - val_loss: 0.5735 - val_accuracy: 0.7500 - 40s/epoch - 2s/step\n",
            "Epoch 9/25\n",
            "25/25 - 39s - loss: 0.2764 - accuracy: 0.9112 - val_loss: 0.2505 - val_accuracy: 0.9250 - 39s/epoch - 2s/step\n",
            "Epoch 10/25\n",
            "25/25 - 40s - loss: 0.1789 - accuracy: 0.9390 - val_loss: 0.1318 - val_accuracy: 0.9250 - 40s/epoch - 2s/step\n",
            "Epoch 11/25\n",
            "25/25 - 44s - loss: 0.1524 - accuracy: 0.9481 - val_loss: 0.2101 - val_accuracy: 0.9438 - 44s/epoch - 2s/step\n",
            "Epoch 12/25\n",
            "25/25 - 39s - loss: 0.1171 - accuracy: 0.9588 - val_loss: 0.1124 - val_accuracy: 0.9563 - 39s/epoch - 2s/step\n",
            "Epoch 13/25\n",
            "25/25 - 41s - loss: 0.1337 - accuracy: 0.9506 - val_loss: 0.1842 - val_accuracy: 0.9250 - 41s/epoch - 2s/step\n",
            "Epoch 14/25\n",
            "25/25 - 40s - loss: 0.0979 - accuracy: 0.9688 - val_loss: 0.1673 - val_accuracy: 0.9438 - 40s/epoch - 2s/step\n",
            "Epoch 15/25\n",
            "25/25 - 40s - loss: 0.1267 - accuracy: 0.9532 - val_loss: 0.2553 - val_accuracy: 0.9312 - 40s/epoch - 2s/step\n",
            "Epoch 16/25\n",
            "25/25 - 39s - loss: 0.0723 - accuracy: 0.9650 - val_loss: 0.1149 - val_accuracy: 0.9625 - 39s/epoch - 2s/step\n",
            "Epoch 17/25\n",
            "25/25 - 42s - loss: 0.0932 - accuracy: 0.9700 - val_loss: 0.0452 - val_accuracy: 0.9875 - 42s/epoch - 2s/step\n",
            "Epoch 18/25\n",
            "25/25 - 40s - loss: 0.0844 - accuracy: 0.9662 - val_loss: 0.0766 - val_accuracy: 0.9750 - 40s/epoch - 2s/step\n",
            "Epoch 19/25\n",
            "25/25 - 40s - loss: 0.0531 - accuracy: 0.9818 - val_loss: 0.0546 - val_accuracy: 0.9875 - 40s/epoch - 2s/step\n",
            "Epoch 20/25\n",
            "25/25 - 38s - loss: 0.0827 - accuracy: 0.9688 - val_loss: 0.1597 - val_accuracy: 0.9750 - 38s/epoch - 2s/step\n",
            "Epoch 21/25\n",
            "25/25 - 41s - loss: 0.0750 - accuracy: 0.9792 - val_loss: 0.1023 - val_accuracy: 0.9812 - 41s/epoch - 2s/step\n",
            "Epoch 22/25\n",
            "25/25 - 42s - loss: 0.0635 - accuracy: 0.9837 - val_loss: 0.0624 - val_accuracy: 0.9812 - 42s/epoch - 2s/step\n",
            "Epoch 23/25\n",
            "25/25 - 41s - loss: 0.0586 - accuracy: 0.9870 - val_loss: 0.1263 - val_accuracy: 0.9812 - 41s/epoch - 2s/step\n",
            "Epoch 24/25\n",
            "25/25 - 44s - loss: 0.0387 - accuracy: 0.9883 - val_loss: 0.0418 - val_accuracy: 0.9750 - 44s/epoch - 2s/step\n",
            "Epoch 25/25\n",
            "25/25 - 39s - loss: 0.0655 - accuracy: 0.9762 - val_loss: 0.0635 - val_accuracy: 0.9812 - 39s/epoch - 2s/step\n"
          ]
        }
      ],
      "source": [
        "history = model.fit(\n",
        "      train_generator,\n",
        "      steps_per_epoch=25,  # berapa batch yang akan dieksekusi pada setiap epoch\n",
        "      epochs=25,\n",
        "      validation_data=validation_generator, # menampilkan akurasi pengujian data validasi\n",
        "      validation_steps=5,  # berapa batch yang akan dieksekusi pada setiap epoch\n",
        "      verbose=2)"
      ]
    },
    {
      "cell_type": "code",
      "execution_count": 22,
      "metadata": {
        "colab": {
          "base_uri": "https://localhost:8080/",
          "height": 699
        },
        "id": "TRLZNX_92U0e",
        "outputId": "e6bada9b-c19e-43c9-d406-fedbc4479867"
      },
      "outputs": [
        {
          "output_type": "display_data",
          "data": {
            "text/plain": [
              "<Figure size 1200x800 with 1 Axes>"
            ],
            "image/png": "[encoded data removed]"
          },
          "metadata": {}
        }
      ],
      "source": [
        "import matplotlib.pyplot as plt\n",
        "\n",
        "accur = history.history['accuracy']\n",
        "val_accur = history.history['val_accuracy']\n",
        "loss = history.history['loss']\n",
        "val_loss = history.history['val_loss']\n",
        "\n",
        "epochs = range(len(accur))\n",
        "\n",
        "plt.figure(figsize=(12,8))\n",
        "plt.plot(epochs, accur, 'r', label='Training accuracy')\n",
        "plt.plot(epochs, val_accur, 'b', label='Validation accuracy')\n",
        "plt.title('Training and validation accuracy')\n",
        "plt.legend(loc=0)\n",
        "plt.show()"
      ]
    },
    {
      "cell_type": "code",
      "execution_count": 23,
      "metadata": {
        "colab": {
          "base_uri": "https://localhost:8080/"
        },
        "id": "sf5-jij7AoZn",
        "outputId": "199cede2-8b01-4663-83dd-a5bfd6e244b9"
      },
      "outputs": [
        {
          "output_type": "stream",
          "name": "stdout",
          "text": [
            "{'paper': 0, 'rock': 1, 'scissors': 2}\n"
          ]
        }
      ],
      "source": [
        "print(train_generator.class_indices)"
      ]
    },
    {
      "cell_type": "code",
      "execution_count": 24,
      "metadata": {
        "id": "giO1WIH45GGW"
      },
      "outputs": [],
      "source": [
        "from keras.models import model_from_json\n",
        "\n",
        "# serialize model to JSON\n",
        "model_json = model.to_json()\n",
        "\n",
        "with open(\"modelImageCNN.json\", \"w\") as json_file:\n",
        "    json_file.write(model_json)\n",
        "\n",
        "# serialize weights to HDF5\n",
        "model.save_weights(\"modelImageCNN.h5\")"
      ]
    },
    {
      "cell_type": "code",
      "execution_count": 25,
      "metadata": {
        "colab": {
          "base_uri": "https://localhost:8080/",
          "height": 503
        },
        "id": "sZ7kEHVxgLZm",
        "outputId": "5edb8d09-8ba8-4679-f8fe-ee7241fb08a6"
      },
      "outputs": [
        {
          "output_type": "display_data",
          "data": {
            "text/plain": [
              "<IPython.core.display.HTML object>"
            ],
            "text/html": [
              "\n",
              "     <input type=\"file\" id=\"files-b85edee9-6a7d-4857-9a11-60b05f429253\" name=\"files[]\" multiple disabled\n",
              "        style=\"border:none\" />\n",
              "     <output id=\"result-b85edee9-6a7d-4857-9a11-60b05f429253\">\n",
              "      Upload widget is only available when the cell has been executed in the\n",
              "      current browser session. Please rerun this cell to enable.\n",
              "      </output>\n",
              "      <script>// Copyright 2017 Google LLC\n",
              "//\n",
              "// Licensed under the Apache License, Version 2.0 (the \"License\");\n",
              "// you may not use this file except in compliance with the License.\n",
              "// You may obtain a copy of the License at\n",
              "//\n",
              "//      http://www.apache.org/licenses/LICENSE-2.0\n",
              "//\n",
              "// Unless required by applicable law or agreed to in writing, software\n",
              "// distributed under the License is distributed on an \"AS IS\" BASIS,\n",
              "// WITHOUT WARRANTIES OR CONDITIONS OF ANY KIND, either express or implied.\n",
              "// See the License for the specific language governing permissions and\n",
              "// limitations under the License.\n",
              "\n",
              "/**\n",
              " * @fileoverview Helpers for google.colab Python module.\n",
              " */\n",
              "(function(scope) {\n",
              "function span(text, styleAttributes = {}) {\n",
              "  const element = document.createElement('span');\n",
              "  element.textContent = text;\n",
              "  for (const key of Object.keys(styleAttributes)) {\n",
              "    element.style[key] = styleAttributes[key];\n",
              "  }\n",
              "  return element;\n",
              "}\n",
              "\n",
              "// Max number of bytes which will be uploaded at a time.\n",
              "const MAX_PAYLOAD_SIZE = 100 * 1024;\n",
              "\n",
              "function _uploadFiles(inputId, outputId) {\n",
              "  const steps = uploadFilesStep(inputId, outputId);\n",
              "  const outputElement = document.getElementById(outputId);\n",
              "  // Cache steps on the outputElement to make it available for the next call\n",
              "  // to uploadFilesContinue from Python.\n",
              "  outputElement.steps = steps;\n",
              "\n",
              "  return _uploadFilesContinue(outputId);\n",
              "}\n",
              "\n",
              "// This is roughly an async generator (not supported in the browser yet),\n",
              "// where there are multiple asynchronous steps and the Python side is going\n",
              "// to poll for completion of each step.\n",
              "// This uses a Promise to block the python side on completion of each step,\n",
              "// then passes the result of the previous step as the input to the next step.\n",
              "function _uploadFilesContinue(outputId) {\n",
              "  const outputElement = document.getElementById(outputId);\n",
              "  const steps = outputElement.steps;\n",
              "\n",
              "  const next = steps.next(outputElement.lastPromiseValue);\n",
              "  return Promise.resolve(next.value.promise).then((value) => {\n",
              "    // Cache the last promise value to make it available to the next\n",
              "    // step of the generator.\n",
              "    outputElement.lastPromiseValue = value;\n",
              "    return next.value.response;\n",
              "  });\n",
              "}\n",
              "\n",
              "/**\n",
              " * Generator function which is called between each async step of the upload\n",
              " * process.\n",
              " * @param {string} inputId Element ID of the input file picker element.\n",
              " * @param {string} outputId Element ID of the output display.\n",
              " * @return {!Iterable<!Object>} Iterable of next steps.\n",
              " */\n",
              "function* uploadFilesStep(inputId, outputId) {\n",
              "  const inputElement = document.getElementById(inputId);\n",
              "  inputElement.disabled = false;\n",
              "\n",
              "  const outputElement = document.getElementById(outputId);\n",
              "  outputElement.innerHTML = '';\n",
              "\n",
              "  const pickedPromise = new Promise((resolve) => {\n",
              "    inputElement.addEventListener('change', (e) => {\n",
              "      resolve(e.target.files);\n",
              "    });\n",
              "  });\n",
              "\n",
              "  const cancel = document.createElement('button');\n",
              "  inputElement.parentElement.appendChild(cancel);\n",
              "  cancel.textContent = 'Cancel upload';\n",
              "  const cancelPromise = new Promise((resolve) => {\n",
              "    cancel.onclick = () => {\n",
              "      resolve(null);\n",
              "    };\n",
              "  });\n",
              "\n",
              "  // Wait for the user to pick the files.\n",
              "  const files = yield {\n",
              "    promise: Promise.race([pickedPromise, cancelPromise]),\n",
              "    response: {\n",
              "      action: 'starting',\n",
              "    }\n",
              "  };\n",
              "\n",
              "  cancel.remove();\n",
              "\n",
              "  // Disable the input element since further picks are not allowed.\n",
              "  inputElement.disabled = true;\n",
              "\n",
              "  if (!files) {\n",
              "    return {\n",
              "      response: {\n",
              "        action: 'complete',\n",
              "      }\n",
              "    };\n",
              "  }\n",
              "\n",
              "  for (const file of files) {\n",
              "    const li = document.createElement('li');\n",
              "    li.append(span(file.name, {fontWeight: 'bold'}));\n",
              "    li.append(span(\n",
              "        `(${file.type || 'n/a'}) - ${file.size} bytes, ` +\n",
              "        `last modified: ${\n",
              "            file.lastModifiedDate ? file.lastModifiedDate.toLocaleDateString() :\n",
              "                                    'n/a'} - `));\n",
              "    const percent = span('0% done');\n",
              "    li.appendChild(percent);\n",
              "\n",
              "    outputElement.appendChild(li);\n",
              "\n",
              "    const fileDataPromise = new Promise((resolve) => {\n",
              "      const reader = new FileReader();\n",
              "      reader.onload = (e) => {\n",
              "        resolve(e.target.result);\n",
              "      };\n",
              "      reader.readAsArrayBuffer(file);\n",
              "    });\n",
              "    // Wait for the data to be ready.\n",
              "    let fileData = yield {\n",
              "      promise: fileDataPromise,\n",
              "      response: {\n",
              "        action: 'continue',\n",
              "      }\n",
              "    };\n",
              "\n",
              "    // Use a chunked sending to avoid message size limits. See b/62115660.\n",
              "    let position = 0;\n",
              "    do {\n",
              "      const length = Math.min(fileData.byteLength - position, MAX_PAYLOAD_SIZE);\n",
              "      const chunk = new Uint8Array(fileData, position, length);\n",
              "      position += length;\n",
              "\n",
              "      const base64 = btoa(String.fromCharCode.apply(null, chunk));\n",
              "      yield {\n",
              "        response: {\n",
              "          action: 'append',\n",
              "          file: file.name,\n",
              "          data: base64,\n",
              "        },\n",
              "      };\n",
              "\n",
              "      let percentDone = fileData.byteLength === 0 ?\n",
              "          100 :\n",
              "          Math.round((position / fileData.byteLength) * 100);\n",
              "      percent.textContent = `${percentDone}% done`;\n",
              "\n",
              "    } while (position < fileData.byteLength);\n",
              "  }\n",
              "\n",
              "  // All done.\n",
              "  yield {\n",
              "    response: {\n",
              "      action: 'complete',\n",
              "    }\n",
              "  };\n",
              "}\n",
              "\n",
              "scope.google = scope.google || {};\n",
              "scope.google.colab = scope.google.colab || {};\n",
              "scope.google.colab._files = {\n",
              "  _uploadFiles,\n",
              "  _uploadFilesContinue,\n",
              "};\n",
              "})(self);\n",
              "</script> "
            ]
          },
          "metadata": {}
        },
        {
          "output_type": "stream",
          "name": "stdout",
          "text": [
            "Saving 1DxbXT3M2qiMjCmC.png to 1DxbXT3M2qiMjCmC.png\n",
            "1/1 [==============================] - 1s 548ms/step\n",
            "1DxbXT3M2qiMjCmC.png\n",
            "rock\n"
          ]
        },
        {
          "output_type": "display_data",
          "data": {
            "text/plain": [
              "<Figure size 640x480 with 1 Axes>"
            ],
            "image/png": "[encoded data removed]"
          },
          "metadata": {}
        }
      ],
      "source": [
        "import numpy as np\n",
        "from google.colab import files\n",
        "from keras.preprocessing import image\n",
        "import matplotlib.pyplot as plt\n",
        "import matplotlib.image as mpimg\n",
        "import matplotlib.pyplot as plt\n",
        "import matplotlib.image as mpimg\n",
        "%matplotlib inline\n",
        "\n",
        "# mengupload file, trus ditampung disini\n",
        "uploaded = files.upload()\n",
        "\n",
        "for fn in uploaded.keys():\n",
        "\n",
        "  # predicting images\n",
        "  path = fn\n",
        "  # memilih file gambar secara interaktif\n",
        "  img = image.load_img(path, target_size=(100,150))\n",
        "  imgplot = plt.imshow(img)\n",
        "  x = image.img_to_array(img)\n",
        "  x = np.expand_dims(x, axis=0)\n",
        "\n",
        "  # resize gambar dan mengubahnya menjadi larik numpy\n",
        "  images = np.vstack([x])\n",
        "  classes = model.predict(images, batch_size=10)\n",
        "  outclass = np.argmax(classes)\n",
        "\n",
        "  print(fn)\n",
        "  if outclass == 0:\n",
        "    print('paper')\n",
        "  elif outclass == 1:\n",
        "    print('rock')\n",
        "  else:\n",
        "    print('scissors')"
      ]
    }
  ],
  "metadata": {
    "colab": {
      "provenance": []
    },
    "kernelspec": {
      "display_name": "Python 3",
      "name": "python3"
    }
  },
  "nbformat": 4,
  "nbformat_minor": 0
}